{
 "cells": [
  {
   "cell_type": "markdown",
   "id": "29379dd0",
   "metadata": {},
   "source": [
    "# IMPORT LIBRARIES"
   ]
  },
  {
   "cell_type": "code",
   "execution_count": 1,
   "id": "bright-original",
   "metadata": {},
   "outputs": [],
   "source": [
    "# data manipulation\n",
    "import pandas as pd\n",
    "import numpy as np\n",
    "pd.set_option('display.max_rows', 50)\n",
    "pd.set_option('display.max_columns', 50)\n",
    "\n",
    "# data visualization\n",
    "import matplotlib.pyplot as plt\n",
    "import seaborn as sns\n",
    "from wordcloud import WordCloud\n",
    "plt.rcParams['figure.figsize'] = 12,6\n",
    "sns.set_style('darkgrid')\n",
    "%matplotlib inline\n",
    "\n",
    "# preprocessing\n",
    "from sklearn.model_selection import cross_val_score, cross_val_predict, cross_validate, StratifiedKFold, train_test_split\n",
    "from sklearn.preprocessing import StandardScaler\n",
    "from sklearn.pipeline import Pipeline\n",
    "\n",
    "# machine learning\n",
    "from sklearn.linear_model import LogisticRegression\n",
    "from sklearn.neighbors import KNeighborsClassifier\n",
    "from sklearn.svm import SVC\n",
    "from sklearn.tree import DecisionTreeClassifier\n",
    "from sklearn.naive_bayes import GaussianNB\n",
    "from sklearn.ensemble import RandomForestClassifier\n",
    "\n",
    "# metrics\n",
    "from sklearn.metrics import confusion_matrix, recall_score, precision_score, precision_recall_curve, f1_score, fbeta_score\n",
    "\n",
    "# hyperparameter tuning\n",
    "from bayes_opt import BayesianOptimization\n",
    "\n",
    "# miscellaneous\n",
    "import math\n",
    "from time import time"
   ]
  },
  {
   "cell_type": "markdown",
   "id": "252b63f8",
   "metadata": {},
   "source": [
    "# IMPORT DATASET"
   ]
  },
  {
   "cell_type": "code",
   "execution_count": 2,
   "id": "operating-reserve",
   "metadata": {
    "scrolled": false
   },
   "outputs": [
    {
     "data": {
      "text/html": [
       "<div>\n",
       "<style scoped>\n",
       "    .dataframe tbody tr th:only-of-type {\n",
       "        vertical-align: middle;\n",
       "    }\n",
       "\n",
       "    .dataframe tbody tr th {\n",
       "        vertical-align: top;\n",
       "    }\n",
       "\n",
       "    .dataframe thead th {\n",
       "        text-align: right;\n",
       "    }\n",
       "</style>\n",
       "<table border=\"1\" class=\"dataframe\">\n",
       "  <thead>\n",
       "    <tr style=\"text-align: right;\">\n",
       "      <th></th>\n",
       "      <th>Time</th>\n",
       "      <th>V1</th>\n",
       "      <th>V2</th>\n",
       "      <th>V3</th>\n",
       "      <th>V4</th>\n",
       "      <th>V5</th>\n",
       "      <th>V6</th>\n",
       "      <th>V7</th>\n",
       "      <th>V8</th>\n",
       "      <th>V9</th>\n",
       "      <th>V10</th>\n",
       "      <th>V11</th>\n",
       "      <th>V12</th>\n",
       "      <th>V13</th>\n",
       "      <th>V14</th>\n",
       "      <th>V15</th>\n",
       "      <th>V16</th>\n",
       "      <th>V17</th>\n",
       "      <th>V18</th>\n",
       "      <th>V19</th>\n",
       "      <th>V20</th>\n",
       "      <th>V21</th>\n",
       "      <th>V22</th>\n",
       "      <th>V23</th>\n",
       "      <th>V24</th>\n",
       "      <th>V25</th>\n",
       "      <th>V26</th>\n",
       "      <th>V27</th>\n",
       "      <th>V28</th>\n",
       "      <th>Amount</th>\n",
       "      <th>Class</th>\n",
       "    </tr>\n",
       "  </thead>\n",
       "  <tbody>\n",
       "    <tr>\n",
       "      <th>0</th>\n",
       "      <td>0.0</td>\n",
       "      <td>-1.359807</td>\n",
       "      <td>-0.072781</td>\n",
       "      <td>2.536347</td>\n",
       "      <td>1.378155</td>\n",
       "      <td>-0.338321</td>\n",
       "      <td>0.462388</td>\n",
       "      <td>0.239599</td>\n",
       "      <td>0.098698</td>\n",
       "      <td>0.363787</td>\n",
       "      <td>0.090794</td>\n",
       "      <td>-0.551600</td>\n",
       "      <td>-0.617801</td>\n",
       "      <td>-0.991390</td>\n",
       "      <td>-0.311169</td>\n",
       "      <td>1.468177</td>\n",
       "      <td>-0.470401</td>\n",
       "      <td>0.207971</td>\n",
       "      <td>0.025791</td>\n",
       "      <td>0.403993</td>\n",
       "      <td>0.251412</td>\n",
       "      <td>-0.018307</td>\n",
       "      <td>0.277838</td>\n",
       "      <td>-0.110474</td>\n",
       "      <td>0.066928</td>\n",
       "      <td>0.128539</td>\n",
       "      <td>-0.189115</td>\n",
       "      <td>0.133558</td>\n",
       "      <td>-0.021053</td>\n",
       "      <td>149.62</td>\n",
       "      <td>0</td>\n",
       "    </tr>\n",
       "    <tr>\n",
       "      <th>1</th>\n",
       "      <td>0.0</td>\n",
       "      <td>1.191857</td>\n",
       "      <td>0.266151</td>\n",
       "      <td>0.166480</td>\n",
       "      <td>0.448154</td>\n",
       "      <td>0.060018</td>\n",
       "      <td>-0.082361</td>\n",
       "      <td>-0.078803</td>\n",
       "      <td>0.085102</td>\n",
       "      <td>-0.255425</td>\n",
       "      <td>-0.166974</td>\n",
       "      <td>1.612727</td>\n",
       "      <td>1.065235</td>\n",
       "      <td>0.489095</td>\n",
       "      <td>-0.143772</td>\n",
       "      <td>0.635558</td>\n",
       "      <td>0.463917</td>\n",
       "      <td>-0.114805</td>\n",
       "      <td>-0.183361</td>\n",
       "      <td>-0.145783</td>\n",
       "      <td>-0.069083</td>\n",
       "      <td>-0.225775</td>\n",
       "      <td>-0.638672</td>\n",
       "      <td>0.101288</td>\n",
       "      <td>-0.339846</td>\n",
       "      <td>0.167170</td>\n",
       "      <td>0.125895</td>\n",
       "      <td>-0.008983</td>\n",
       "      <td>0.014724</td>\n",
       "      <td>2.69</td>\n",
       "      <td>0</td>\n",
       "    </tr>\n",
       "    <tr>\n",
       "      <th>2</th>\n",
       "      <td>1.0</td>\n",
       "      <td>-1.358354</td>\n",
       "      <td>-1.340163</td>\n",
       "      <td>1.773209</td>\n",
       "      <td>0.379780</td>\n",
       "      <td>-0.503198</td>\n",
       "      <td>1.800499</td>\n",
       "      <td>0.791461</td>\n",
       "      <td>0.247676</td>\n",
       "      <td>-1.514654</td>\n",
       "      <td>0.207643</td>\n",
       "      <td>0.624501</td>\n",
       "      <td>0.066084</td>\n",
       "      <td>0.717293</td>\n",
       "      <td>-0.165946</td>\n",
       "      <td>2.345865</td>\n",
       "      <td>-2.890083</td>\n",
       "      <td>1.109969</td>\n",
       "      <td>-0.121359</td>\n",
       "      <td>-2.261857</td>\n",
       "      <td>0.524980</td>\n",
       "      <td>0.247998</td>\n",
       "      <td>0.771679</td>\n",
       "      <td>0.909412</td>\n",
       "      <td>-0.689281</td>\n",
       "      <td>-0.327642</td>\n",
       "      <td>-0.139097</td>\n",
       "      <td>-0.055353</td>\n",
       "      <td>-0.059752</td>\n",
       "      <td>378.66</td>\n",
       "      <td>0</td>\n",
       "    </tr>\n",
       "    <tr>\n",
       "      <th>3</th>\n",
       "      <td>1.0</td>\n",
       "      <td>-0.966272</td>\n",
       "      <td>-0.185226</td>\n",
       "      <td>1.792993</td>\n",
       "      <td>-0.863291</td>\n",
       "      <td>-0.010309</td>\n",
       "      <td>1.247203</td>\n",
       "      <td>0.237609</td>\n",
       "      <td>0.377436</td>\n",
       "      <td>-1.387024</td>\n",
       "      <td>-0.054952</td>\n",
       "      <td>-0.226487</td>\n",
       "      <td>0.178228</td>\n",
       "      <td>0.507757</td>\n",
       "      <td>-0.287924</td>\n",
       "      <td>-0.631418</td>\n",
       "      <td>-1.059647</td>\n",
       "      <td>-0.684093</td>\n",
       "      <td>1.965775</td>\n",
       "      <td>-1.232622</td>\n",
       "      <td>-0.208038</td>\n",
       "      <td>-0.108300</td>\n",
       "      <td>0.005274</td>\n",
       "      <td>-0.190321</td>\n",
       "      <td>-1.175575</td>\n",
       "      <td>0.647376</td>\n",
       "      <td>-0.221929</td>\n",
       "      <td>0.062723</td>\n",
       "      <td>0.061458</td>\n",
       "      <td>123.50</td>\n",
       "      <td>0</td>\n",
       "    </tr>\n",
       "    <tr>\n",
       "      <th>4</th>\n",
       "      <td>2.0</td>\n",
       "      <td>-1.158233</td>\n",
       "      <td>0.877737</td>\n",
       "      <td>1.548718</td>\n",
       "      <td>0.403034</td>\n",
       "      <td>-0.407193</td>\n",
       "      <td>0.095921</td>\n",
       "      <td>0.592941</td>\n",
       "      <td>-0.270533</td>\n",
       "      <td>0.817739</td>\n",
       "      <td>0.753074</td>\n",
       "      <td>-0.822843</td>\n",
       "      <td>0.538196</td>\n",
       "      <td>1.345852</td>\n",
       "      <td>-1.119670</td>\n",
       "      <td>0.175121</td>\n",
       "      <td>-0.451449</td>\n",
       "      <td>-0.237033</td>\n",
       "      <td>-0.038195</td>\n",
       "      <td>0.803487</td>\n",
       "      <td>0.408542</td>\n",
       "      <td>-0.009431</td>\n",
       "      <td>0.798278</td>\n",
       "      <td>-0.137458</td>\n",
       "      <td>0.141267</td>\n",
       "      <td>-0.206010</td>\n",
       "      <td>0.502292</td>\n",
       "      <td>0.219422</td>\n",
       "      <td>0.215153</td>\n",
       "      <td>69.99</td>\n",
       "      <td>0</td>\n",
       "    </tr>\n",
       "    <tr>\n",
       "      <th>5</th>\n",
       "      <td>2.0</td>\n",
       "      <td>-0.425966</td>\n",
       "      <td>0.960523</td>\n",
       "      <td>1.141109</td>\n",
       "      <td>-0.168252</td>\n",
       "      <td>0.420987</td>\n",
       "      <td>-0.029728</td>\n",
       "      <td>0.476201</td>\n",
       "      <td>0.260314</td>\n",
       "      <td>-0.568671</td>\n",
       "      <td>-0.371407</td>\n",
       "      <td>1.341262</td>\n",
       "      <td>0.359894</td>\n",
       "      <td>-0.358091</td>\n",
       "      <td>-0.137134</td>\n",
       "      <td>0.517617</td>\n",
       "      <td>0.401726</td>\n",
       "      <td>-0.058133</td>\n",
       "      <td>0.068653</td>\n",
       "      <td>-0.033194</td>\n",
       "      <td>0.084968</td>\n",
       "      <td>-0.208254</td>\n",
       "      <td>-0.559825</td>\n",
       "      <td>-0.026398</td>\n",
       "      <td>-0.371427</td>\n",
       "      <td>-0.232794</td>\n",
       "      <td>0.105915</td>\n",
       "      <td>0.253844</td>\n",
       "      <td>0.081080</td>\n",
       "      <td>3.67</td>\n",
       "      <td>0</td>\n",
       "    </tr>\n",
       "  </tbody>\n",
       "</table>\n",
       "</div>"
      ],
      "text/plain": [
       "   Time        V1        V2        V3        V4        V5        V6        V7  \\\n",
       "0   0.0 -1.359807 -0.072781  2.536347  1.378155 -0.338321  0.462388  0.239599   \n",
       "1   0.0  1.191857  0.266151  0.166480  0.448154  0.060018 -0.082361 -0.078803   \n",
       "2   1.0 -1.358354 -1.340163  1.773209  0.379780 -0.503198  1.800499  0.791461   \n",
       "3   1.0 -0.966272 -0.185226  1.792993 -0.863291 -0.010309  1.247203  0.237609   \n",
       "4   2.0 -1.158233  0.877737  1.548718  0.403034 -0.407193  0.095921  0.592941   \n",
       "5   2.0 -0.425966  0.960523  1.141109 -0.168252  0.420987 -0.029728  0.476201   \n",
       "\n",
       "         V8        V9       V10       V11       V12       V13       V14  \\\n",
       "0  0.098698  0.363787  0.090794 -0.551600 -0.617801 -0.991390 -0.311169   \n",
       "1  0.085102 -0.255425 -0.166974  1.612727  1.065235  0.489095 -0.143772   \n",
       "2  0.247676 -1.514654  0.207643  0.624501  0.066084  0.717293 -0.165946   \n",
       "3  0.377436 -1.387024 -0.054952 -0.226487  0.178228  0.507757 -0.287924   \n",
       "4 -0.270533  0.817739  0.753074 -0.822843  0.538196  1.345852 -1.119670   \n",
       "5  0.260314 -0.568671 -0.371407  1.341262  0.359894 -0.358091 -0.137134   \n",
       "\n",
       "        V15       V16       V17       V18       V19       V20       V21  \\\n",
       "0  1.468177 -0.470401  0.207971  0.025791  0.403993  0.251412 -0.018307   \n",
       "1  0.635558  0.463917 -0.114805 -0.183361 -0.145783 -0.069083 -0.225775   \n",
       "2  2.345865 -2.890083  1.109969 -0.121359 -2.261857  0.524980  0.247998   \n",
       "3 -0.631418 -1.059647 -0.684093  1.965775 -1.232622 -0.208038 -0.108300   \n",
       "4  0.175121 -0.451449 -0.237033 -0.038195  0.803487  0.408542 -0.009431   \n",
       "5  0.517617  0.401726 -0.058133  0.068653 -0.033194  0.084968 -0.208254   \n",
       "\n",
       "        V22       V23       V24       V25       V26       V27       V28  \\\n",
       "0  0.277838 -0.110474  0.066928  0.128539 -0.189115  0.133558 -0.021053   \n",
       "1 -0.638672  0.101288 -0.339846  0.167170  0.125895 -0.008983  0.014724   \n",
       "2  0.771679  0.909412 -0.689281 -0.327642 -0.139097 -0.055353 -0.059752   \n",
       "3  0.005274 -0.190321 -1.175575  0.647376 -0.221929  0.062723  0.061458   \n",
       "4  0.798278 -0.137458  0.141267 -0.206010  0.502292  0.219422  0.215153   \n",
       "5 -0.559825 -0.026398 -0.371427 -0.232794  0.105915  0.253844  0.081080   \n",
       "\n",
       "   Amount  Class  \n",
       "0  149.62      0  \n",
       "1    2.69      0  \n",
       "2  378.66      0  \n",
       "3  123.50      0  \n",
       "4   69.99      0  \n",
       "5    3.67      0  "
      ]
     },
     "execution_count": 2,
     "metadata": {},
     "output_type": "execute_result"
    }
   ],
   "source": [
    "df = pd.read_csv('creditcard.csv')\n",
    "df.head(6)"
   ]
  },
  {
   "cell_type": "code",
   "execution_count": 3,
   "id": "19c54989",
   "metadata": {},
   "outputs": [
    {
     "name": "stdout",
     "output_type": "stream",
     "text": [
      "<class 'pandas.core.frame.DataFrame'>\n",
      "RangeIndex: 284807 entries, 0 to 284806\n",
      "Data columns (total 31 columns):\n",
      " #   Column  Non-Null Count   Dtype  \n",
      "---  ------  --------------   -----  \n",
      " 0   Time    284807 non-null  float64\n",
      " 1   V1      284807 non-null  float64\n",
      " 2   V2      284807 non-null  float64\n",
      " 3   V3      284807 non-null  float64\n",
      " 4   V4      284807 non-null  float64\n",
      " 5   V5      284807 non-null  float64\n",
      " 6   V6      284807 non-null  float64\n",
      " 7   V7      284807 non-null  float64\n",
      " 8   V8      284807 non-null  float64\n",
      " 9   V9      284807 non-null  float64\n",
      " 10  V10     284807 non-null  float64\n",
      " 11  V11     284807 non-null  float64\n",
      " 12  V12     284807 non-null  float64\n",
      " 13  V13     284807 non-null  float64\n",
      " 14  V14     284807 non-null  float64\n",
      " 15  V15     284807 non-null  float64\n",
      " 16  V16     284807 non-null  float64\n",
      " 17  V17     284807 non-null  float64\n",
      " 18  V18     284807 non-null  float64\n",
      " 19  V19     284807 non-null  float64\n",
      " 20  V20     284807 non-null  float64\n",
      " 21  V21     284807 non-null  float64\n",
      " 22  V22     284807 non-null  float64\n",
      " 23  V23     284807 non-null  float64\n",
      " 24  V24     284807 non-null  float64\n",
      " 25  V25     284807 non-null  float64\n",
      " 26  V26     284807 non-null  float64\n",
      " 27  V27     284807 non-null  float64\n",
      " 28  V28     284807 non-null  float64\n",
      " 29  Amount  284807 non-null  float64\n",
      " 30  Class   284807 non-null  int64  \n",
      "dtypes: float64(30), int64(1)\n",
      "memory usage: 67.4 MB\n"
     ]
    }
   ],
   "source": [
    "df.info()"
   ]
  },
  {
   "cell_type": "markdown",
   "id": "b7472da9",
   "metadata": {},
   "source": [
    "# CHECK FOR MISSING VALUES"
   ]
  },
  {
   "cell_type": "code",
   "execution_count": 4,
   "id": "bee164db",
   "metadata": {},
   "outputs": [
    {
     "data": {
      "text/plain": [
       "Time      0.0\n",
       "V1        0.0\n",
       "V2        0.0\n",
       "V3        0.0\n",
       "V4        0.0\n",
       "V5        0.0\n",
       "V6        0.0\n",
       "V7        0.0\n",
       "V8        0.0\n",
       "V9        0.0\n",
       "V10       0.0\n",
       "V11       0.0\n",
       "V12       0.0\n",
       "V13       0.0\n",
       "V14       0.0\n",
       "V15       0.0\n",
       "V16       0.0\n",
       "V17       0.0\n",
       "V18       0.0\n",
       "V19       0.0\n",
       "V20       0.0\n",
       "V21       0.0\n",
       "V22       0.0\n",
       "V23       0.0\n",
       "V24       0.0\n",
       "V25       0.0\n",
       "V26       0.0\n",
       "V27       0.0\n",
       "V28       0.0\n",
       "Amount    0.0\n",
       "Class     0.0\n",
       "dtype: float64"
      ]
     },
     "execution_count": 4,
     "metadata": {},
     "output_type": "execute_result"
    }
   ],
   "source": [
    "df.isnull().sum() / len(df)"
   ]
  },
  {
   "cell_type": "markdown",
   "id": "ff978af0",
   "metadata": {},
   "source": [
    "# DISTRIBUTION OF AMOUNT OF FRAUD TRANSACTIONS"
   ]
  },
  {
   "cell_type": "code",
   "execution_count": 5,
   "id": "e93bb6b3",
   "metadata": {},
   "outputs": [
    {
     "data": {
      "image/png": "[encoded data removed]",
      "text/plain": [
       "<Figure size 720x360 with 1 Axes>"
      ]
     },
     "metadata": {
      "needs_background": "light"
     },
     "output_type": "display_data"
    }
   ],
   "source": [
    "sns.displot(df[df['Class']==1]['Amount'], height=5, aspect=2)\n",
    "plt.xlabel('Amount', fontsize=12)\n",
    "plt.ylabel('Frequency', fontsize=12);"
   ]
  },
  {
   "cell_type": "code",
   "execution_count": 6,
   "id": "1d23ebff",
   "metadata": {},
   "outputs": [
    {
     "data": {
      "text/plain": [
       "9.25"
      ]
     },
     "execution_count": 6,
     "metadata": {},
     "output_type": "execute_result"
    }
   ],
   "source": [
    "fraud_cost = round(df[df['Class']==1]['Amount'].median(), 2)\n",
    "fraud_cost"
   ]
  },
  {
   "cell_type": "markdown",
   "id": "0f24126d",
   "metadata": {},
   "source": [
    "# MODEL DEVELOPMENT"
   ]
  },
  {
   "cell_type": "markdown",
   "id": "1c1ae8ee",
   "metadata": {},
   "source": [
    "## 1. Model preparation"
   ]
  },
  {
   "cell_type": "code",
   "execution_count": 7,
   "id": "suspected-beach",
   "metadata": {},
   "outputs": [],
   "source": [
    "def create_models():\n",
    "    models = {}\n",
    "    models['Logistic Regression'] = LogisticRegression(max_iter=5000)\n",
    "    models['K-Nearest Neighbors'] = KNeighborsClassifier()\n",
    "    models['Support Vector Machines'] = SVC()\n",
    "    models['Decision Tree'] = DecisionTreeClassifier()\n",
    "    models['Naive Bayes'] = GaussianNB()\n",
    "    models['Random Forest'] = RandomForestClassifier()\n",
    "    return models"
   ]
  },
  {
   "cell_type": "code",
   "execution_count": 8,
   "id": "psychological-burning",
   "metadata": {},
   "outputs": [],
   "source": [
    "def evaluate_model(model, X, y, metrics='accuracy'):\n",
    "    scaler = StandardScaler()\n",
    "    pipeline = Pipeline(steps=[('scaler', scaler), ('model', model)])\n",
    "    cv = StratifiedKFold(5, shuffle=True, random_state=143)\n",
    "    scores = cross_validate(pipeline, X, y, cv=cv, scoring=metrics)\n",
    "    return scores"
   ]
  },
  {
   "cell_type": "code",
   "execution_count": 9,
   "id": "a1f76d4b",
   "metadata": {},
   "outputs": [],
   "source": [
    "def false_positive(estimator, X, y):\n",
    "    predictions = estimator.predict(X)\n",
    "    cm = confusion_matrix(y, predictions)\n",
    "    return cm[0][1]\n",
    "\n",
    "def false_negative(estimator, X, y):\n",
    "    predictions = estimator.predict(X)\n",
    "    cm = confusion_matrix(y, predictions)\n",
    "    return cm[1][0]\n",
    "\n",
    "def true_positive(estimator, X, y):\n",
    "    predictions = estimator.predict(X)\n",
    "    cm = confusion_matrix(y, predictions)\n",
    "    return cm[1][1]\n",
    "\n",
    "def f2_score(estimator, X, y):\n",
    "    predictions = estimator.predict(X)\n",
    "    return fbeta_score(y, predictions, beta=2)"
   ]
  },
  {
   "cell_type": "code",
   "execution_count": 10,
   "id": "3e28986f",
   "metadata": {},
   "outputs": [],
   "source": [
    "df = df.iloc[:,1:]\n",
    "X = df.drop('Class', axis=1)\n",
    "y = df['Class']\n",
    "\n",
    "X_train, X_test, y_train, y_test = train_test_split(X, y, test_size=0.3, random_state=143)"
   ]
  },
  {
   "cell_type": "markdown",
   "id": "e34af5e4",
   "metadata": {},
   "source": [
    "## 2. Cross validation"
   ]
  },
  {
   "cell_type": "code",
   "execution_count": 11,
   "id": "legitimate-money",
   "metadata": {
    "scrolled": true
   },
   "outputs": [
    {
     "name": "stdout",
     "output_type": "stream",
     "text": [
      "--- Initializing Logistic Regression ---\n",
      "--- Logistic Regression done! ---\n",
      "--- Initializing K-Nearest Neighbors ---\n",
      "--- K-Nearest Neighbors done! ---\n",
      "--- Initializing Support Vector Machines ---\n",
      "--- Support Vector Machines done! ---\n",
      "--- Initializing Decision Tree ---\n",
      "--- Decision Tree done! ---\n",
      "--- Initializing Naive Bayes ---\n",
      "--- Naive Bayes done! ---\n",
      "--- Initializing Random Forest ---\n",
      "--- Random Forest done! ---\n"
     ]
    }
   ],
   "source": [
    "names = []\n",
    "results = []\n",
    "\n",
    "scoring = {'fp':false_positive,\n",
    "           'fn':false_negative,\n",
    "           'recall': 'recall',\n",
    "           'precision': 'precision',\n",
    "           'f1_score': 'f1',\n",
    "           'f2_score':f2_score}\n",
    "\n",
    "for name, model in create_models().items():\n",
    "    print(f'--- Initializing {name} ---')\n",
    "    scores = evaluate_model(model, X_train, y_train, scoring)\n",
    "    names.append(name)\n",
    "    results.append(scores)\n",
    "    print(f'--- {name} done! ---')"
   ]
  },
  {
   "cell_type": "code",
   "execution_count": 12,
   "id": "1613606b",
   "metadata": {
    "scrolled": true
   },
   "outputs": [
    {
     "data": {
      "text/html": [
       "<div>\n",
       "<style scoped>\n",
       "    .dataframe tbody tr th:only-of-type {\n",
       "        vertical-align: middle;\n",
       "    }\n",
       "\n",
       "    .dataframe tbody tr th {\n",
       "        vertical-align: top;\n",
       "    }\n",
       "\n",
       "    .dataframe thead th {\n",
       "        text-align: right;\n",
       "    }\n",
       "</style>\n",
       "<table border=\"1\" class=\"dataframe\">\n",
       "  <thead>\n",
       "    <tr style=\"text-align: right;\">\n",
       "      <th></th>\n",
       "      <th>False positive</th>\n",
       "      <th>False negative</th>\n",
       "      <th>Recall</th>\n",
       "      <th>Precision</th>\n",
       "      <th>F1-score</th>\n",
       "      <th>F2-score</th>\n",
       "      <th>Money loss (RM)</th>\n",
       "      <th>Time to compute (seconds)</th>\n",
       "    </tr>\n",
       "  </thead>\n",
       "  <tbody>\n",
       "    <tr>\n",
       "      <th>Random Forest</th>\n",
       "      <td>4</td>\n",
       "      <td>14</td>\n",
       "      <td>0.781212</td>\n",
       "      <td>0.935694</td>\n",
       "      <td>0.850751</td>\n",
       "      <td>0.807474</td>\n",
       "      <td>129.50</td>\n",
       "      <td>698.0</td>\n",
       "    </tr>\n",
       "    <tr>\n",
       "      <th>K-Nearest Neighbors</th>\n",
       "      <td>5</td>\n",
       "      <td>15</td>\n",
       "      <td>0.769091</td>\n",
       "      <td>0.919808</td>\n",
       "      <td>0.836921</td>\n",
       "      <td>0.794706</td>\n",
       "      <td>138.75</td>\n",
       "      <td>3560.9</td>\n",
       "    </tr>\n",
       "    <tr>\n",
       "      <th>Decision Tree</th>\n",
       "      <td>15</td>\n",
       "      <td>16</td>\n",
       "      <td>0.753939</td>\n",
       "      <td>0.767595</td>\n",
       "      <td>0.759584</td>\n",
       "      <td>0.755924</td>\n",
       "      <td>148.00</td>\n",
       "      <td>71.8</td>\n",
       "    </tr>\n",
       "    <tr>\n",
       "      <th>Support Vector Machines</th>\n",
       "      <td>2</td>\n",
       "      <td>23</td>\n",
       "      <td>0.644336</td>\n",
       "      <td>0.946674</td>\n",
       "      <td>0.765423</td>\n",
       "      <td>0.687665</td>\n",
       "      <td>212.75</td>\n",
       "      <td>1309.6</td>\n",
       "    </tr>\n",
       "    <tr>\n",
       "      <th>Logistic Regression</th>\n",
       "      <td>6</td>\n",
       "      <td>25</td>\n",
       "      <td>0.620326</td>\n",
       "      <td>0.867202</td>\n",
       "      <td>0.721762</td>\n",
       "      <td>0.657042</td>\n",
       "      <td>231.25</td>\n",
       "      <td>7.6</td>\n",
       "    </tr>\n",
       "    <tr>\n",
       "      <th>Naive Bayes</th>\n",
       "      <td>892</td>\n",
       "      <td>10</td>\n",
       "      <td>0.842005</td>\n",
       "      <td>0.058520</td>\n",
       "      <td>0.109428</td>\n",
       "      <td>0.228914</td>\n",
       "      <td>92.50</td>\n",
       "      <td>2.4</td>\n",
       "    </tr>\n",
       "  </tbody>\n",
       "</table>\n",
       "</div>"
      ],
      "text/plain": [
       "                         False positive  False negative    Recall  Precision  \\\n",
       "Random Forest                         4              14  0.781212   0.935694   \n",
       "K-Nearest Neighbors                   5              15  0.769091   0.919808   \n",
       "Decision Tree                        15              16  0.753939   0.767595   \n",
       "Support Vector Machines               2              23  0.644336   0.946674   \n",
       "Logistic Regression                   6              25  0.620326   0.867202   \n",
       "Naive Bayes                         892              10  0.842005   0.058520   \n",
       "\n",
       "                         F1-score  F2-score  Money loss (RM)  \\\n",
       "Random Forest            0.850751  0.807474           129.50   \n",
       "K-Nearest Neighbors      0.836921  0.794706           138.75   \n",
       "Decision Tree            0.759584  0.755924           148.00   \n",
       "Support Vector Machines  0.765423  0.687665           212.75   \n",
       "Logistic Regression      0.721762  0.657042           231.25   \n",
       "Naive Bayes              0.109428  0.228914            92.50   \n",
       "\n",
       "                         Time to compute (seconds)  \n",
       "Random Forest                                698.0  \n",
       "K-Nearest Neighbors                         3560.9  \n",
       "Decision Tree                                 71.8  \n",
       "Support Vector Machines                     1309.6  \n",
       "Logistic Regression                            7.6  \n",
       "Naive Bayes                                    2.4  "
      ]
     },
     "execution_count": 12,
     "metadata": {},
     "output_type": "execute_result"
    }
   ],
   "source": [
    "test_fp = []\n",
    "test_fn = []\n",
    "test_recall = []\n",
    "test_precision = []\n",
    "test_f1 = []\n",
    "test_f2 = []\n",
    "time_taken = []\n",
    "\n",
    "for i in range(len(results)):\n",
    "    test_fp.append(round(results[i]['test_fp'].mean()))\n",
    "\n",
    "for i in range(len(results)):\n",
    "    test_fn.append(round(results[i]['test_fn'].mean()))\n",
    "\n",
    "for i in range(len(results)):\n",
    "    test_recall.append(results[i]['test_recall'].mean())\n",
    "\n",
    "for i in range(len(results)):\n",
    "    test_precision.append(results[i]['test_precision'].mean())\n",
    "\n",
    "for i in range(len(results)):\n",
    "    test_f1.append(results[i]['test_f1_score'].mean())\n",
    "\n",
    "for i in range(len(results)):\n",
    "    test_f2.append(results[i]['test_f2_score'].mean())\n",
    "\n",
    "for i in range(len(results)):\n",
    "    time_taken.append(round(results[i]['score_time'].sum(), 1) + round(results[i]['fit_time'].sum(), 1))\n",
    "\n",
    "test_fn = pd.Series(test_fn, name='False negative')\n",
    "test_fp = pd.Series(test_fp, name='False positive')\n",
    "test_recall = pd.Series(test_recall, name='Recall')\n",
    "test_precision = pd.Series(test_precision, name='Precision')\n",
    "test_f1 = pd.Series(test_f1, name='F1-score')\n",
    "test_f2 = pd.Series(test_f2, name='F2-score')\n",
    "time_taken = pd.Series(time_taken, name='Time to compute (seconds)')\n",
    "\n",
    "df_result = pd.concat([test_fp, test_fn, test_recall, test_precision, test_f1, test_f2, time_taken], axis=1)\n",
    "df_result.index = names\n",
    "df_result['Money loss (RM)'] = round(fraud_cost * df_result['False negative'], 2)\n",
    "df_result = df_result.iloc[:,[0, 1, 2, 3, 4, 5, 7, 6]]\n",
    "df_result.sort_values(['F2-score'], ascending=False)"
   ]
  },
  {
   "cell_type": "markdown",
   "id": "0436aa6b",
   "metadata": {},
   "source": [
    "## 3. Model training and evaluation"
   ]
  },
  {
   "cell_type": "code",
   "execution_count": 13,
   "id": "c3507fa2",
   "metadata": {},
   "outputs": [],
   "source": [
    "scaler = StandardScaler()\n",
    "\n",
    "X_train_scaled = scaler.fit_transform(X_train)\n",
    "X_test_scaled = scaler.transform(X_test)"
   ]
  },
  {
   "cell_type": "code",
   "execution_count": 14,
   "id": "2cb562d5",
   "metadata": {},
   "outputs": [
    {
     "data": {
      "text/plain": [
       "RandomForestClassifier(random_state=143)"
      ]
     },
     "execution_count": 14,
     "metadata": {},
     "output_type": "execute_result"
    }
   ],
   "source": [
    "forest = RandomForestClassifier(random_state=143)\n",
    "forest.fit(X_train_scaled, y_train)"
   ]
  },
  {
   "cell_type": "code",
   "execution_count": 15,
   "id": "0a7ffb72",
   "metadata": {},
   "outputs": [
    {
     "data": {
      "text/plain": [
       "array([[85273,     7],\n",
       "       [   43,   120]], dtype=int64)"
      ]
     },
     "execution_count": 15,
     "metadata": {},
     "output_type": "execute_result"
    }
   ],
   "source": [
    "predictions = forest.predict(X_test_scaled)\n",
    "confusion_matrix(y_test, predictions)"
   ]
  },
  {
   "cell_type": "code",
   "execution_count": 16,
   "id": "8648ce44",
   "metadata": {},
   "outputs": [
    {
     "data": {
      "text/plain": [
       "0.7702182284980743"
      ]
     },
     "execution_count": 16,
     "metadata": {},
     "output_type": "execute_result"
    }
   ],
   "source": [
    "fbeta_score(y_test, predictions, beta=2)"
   ]
  },
  {
   "cell_type": "code",
   "execution_count": 17,
   "id": "e2567f35",
   "metadata": {},
   "outputs": [
    {
     "name": "stdout",
     "output_type": "stream",
     "text": [
      "Cost: RM 397.75\n"
     ]
    }
   ],
   "source": [
    "(tn, fp), (fn, tp) = confusion_matrix(y_test, predictions)\n",
    "\n",
    "print(f'Cost: RM {round(fn * fraud_cost, 2)}')"
   ]
  },
  {
   "cell_type": "markdown",
   "id": "54697afc",
   "metadata": {},
   "source": [
    "## 4. Hyperparameter tuning"
   ]
  },
  {
   "cell_type": "code",
   "execution_count": 18,
   "id": "f80008e2",
   "metadata": {
    "scrolled": false
   },
   "outputs": [
    {
     "name": "stdout",
     "output_type": "stream",
     "text": [
      "|   iter    |  target   | max_depth | max_fe... | min_sa... | n_esti... |\n",
      "-------------------------------------------------------------------------\n",
      "| \u001b[0m 1       \u001b[0m | \u001b[0m 0.8353  \u001b[0m | \u001b[0m 23.44   \u001b[0m | \u001b[0m 0.406   \u001b[0m | \u001b[0m 29.15   \u001b[0m | \u001b[0m 452.7   \u001b[0m |\n",
      "| \u001b[95m 2       \u001b[0m | \u001b[95m 0.8563  \u001b[0m | \u001b[95m 19.21   \u001b[0m | \u001b[95m 0.8932  \u001b[0m | \u001b[95m 3.922   \u001b[0m | \u001b[95m 58.34   \u001b[0m |\n",
      "| \u001b[0m 3       \u001b[0m | \u001b[0m 0.8141  \u001b[0m | \u001b[0m 9.981   \u001b[0m | \u001b[0m 0.2505  \u001b[0m | \u001b[0m 58.2    \u001b[0m | \u001b[0m 103.7   \u001b[0m |\n",
      "| \u001b[0m 4       \u001b[0m | \u001b[0m 0.8117  \u001b[0m | \u001b[0m 7.239   \u001b[0m | \u001b[0m 0.3517  \u001b[0m | \u001b[0m 37.34   \u001b[0m | \u001b[0m 117.0   \u001b[0m |\n",
      "| \u001b[0m 5       \u001b[0m | \u001b[0m 0.8541  \u001b[0m | \u001b[0m 19.31   \u001b[0m | \u001b[0m 0.3993  \u001b[0m | \u001b[0m 17.18   \u001b[0m | \u001b[0m 138.0   \u001b[0m |\n",
      "| \u001b[0m 6       \u001b[0m | \u001b[0m 0.8369  \u001b[0m | \u001b[0m 21.55   \u001b[0m | \u001b[0m 0.1797  \u001b[0m | \u001b[0m 14.78   \u001b[0m | \u001b[0m 85.31   \u001b[0m |\n",
      "| \u001b[0m 7       \u001b[0m | \u001b[0m 0.8434  \u001b[0m | \u001b[0m 9.239   \u001b[0m | \u001b[0m 0.6577  \u001b[0m | \u001b[0m 25.08   \u001b[0m | \u001b[0m 963.9   \u001b[0m |\n",
      "| \u001b[0m 8       \u001b[0m | \u001b[0m 0.8159  \u001b[0m | \u001b[0m 27.41   \u001b[0m | \u001b[0m 0.3296  \u001b[0m | \u001b[0m 49.94   \u001b[0m | \u001b[0m 839.3   \u001b[0m |\n",
      "| \u001b[0m 9       \u001b[0m | \u001b[0m 0.8338  \u001b[0m | \u001b[0m 5.048   \u001b[0m | \u001b[0m 0.6119  \u001b[0m | \u001b[0m 12.53   \u001b[0m | \u001b[0m 79.01   \u001b[0m |\n",
      "| \u001b[95m 10      \u001b[0m | \u001b[95m 0.8618  \u001b[0m | \u001b[95m 25.78   \u001b[0m | \u001b[95m 0.5386  \u001b[0m | \u001b[95m 13.83   \u001b[0m | \u001b[95m 489.9   \u001b[0m |\n",
      "| \u001b[0m 11      \u001b[0m | \u001b[0m 0.8323  \u001b[0m | \u001b[0m 23.31   \u001b[0m | \u001b[0m 0.2497  \u001b[0m | \u001b[0m 19.29   \u001b[0m | \u001b[0m 809.4   \u001b[0m |\n",
      "| \u001b[95m 12      \u001b[0m | \u001b[95m 0.8671  \u001b[0m | \u001b[95m 24.69   \u001b[0m | \u001b[95m 0.6881  \u001b[0m | \u001b[95m 4.492   \u001b[0m | \u001b[95m 737.7   \u001b[0m |\n",
      "| \u001b[0m 13      \u001b[0m | \u001b[0m 0.8315  \u001b[0m | \u001b[0m 10.64   \u001b[0m | \u001b[0m 0.4693  \u001b[0m | \u001b[0m 34.49   \u001b[0m | \u001b[0m 353.4   \u001b[0m |\n",
      "| \u001b[0m 14      \u001b[0m | \u001b[0m 0.8583  \u001b[0m | \u001b[0m 12.41   \u001b[0m | \u001b[0m 0.6464  \u001b[0m | \u001b[0m 16.61   \u001b[0m | \u001b[0m 971.0   \u001b[0m |\n",
      "| \u001b[0m 15      \u001b[0m | \u001b[0m 0.8488  \u001b[0m | \u001b[0m 27.76   \u001b[0m | \u001b[0m 0.2284  \u001b[0m | \u001b[0m 10.68   \u001b[0m | \u001b[0m 526.9   \u001b[0m |\n",
      "| \u001b[0m 16      \u001b[0m | \u001b[0m 0.851   \u001b[0m | \u001b[0m 29.29   \u001b[0m | \u001b[0m 0.6618  \u001b[0m | \u001b[0m 21.15   \u001b[0m | \u001b[0m 209.9   \u001b[0m |\n",
      "| \u001b[0m 17      \u001b[0m | \u001b[0m 0.8407  \u001b[0m | \u001b[0m 8.864   \u001b[0m | \u001b[0m 0.4779  \u001b[0m | \u001b[0m 20.0    \u001b[0m | \u001b[0m 313.4   \u001b[0m |\n",
      "| \u001b[0m 18      \u001b[0m | \u001b[0m 0.8545  \u001b[0m | \u001b[0m 19.76   \u001b[0m | \u001b[0m 0.8685  \u001b[0m | \u001b[0m 7.391   \u001b[0m | \u001b[0m 113.9   \u001b[0m |\n",
      "| \u001b[0m 19      \u001b[0m | \u001b[0m 0.822   \u001b[0m | \u001b[0m 14.42   \u001b[0m | \u001b[0m 0.7387  \u001b[0m | \u001b[0m 39.01   \u001b[0m | \u001b[0m 304.8   \u001b[0m |\n",
      "| \u001b[0m 20      \u001b[0m | \u001b[0m 0.8396  \u001b[0m | \u001b[0m 8.713   \u001b[0m | \u001b[0m 0.6038  \u001b[0m | \u001b[0m 31.95   \u001b[0m | \u001b[0m 535.5   \u001b[0m |\n",
      "| \u001b[0m 21      \u001b[0m | \u001b[0m 0.8225  \u001b[0m | \u001b[0m 12.71   \u001b[0m | \u001b[0m 0.1801  \u001b[0m | \u001b[0m 32.33   \u001b[0m | \u001b[0m 637.8   \u001b[0m |\n",
      "| \u001b[0m 22      \u001b[0m | \u001b[0m 0.8549  \u001b[0m | \u001b[0m 24.09   \u001b[0m | \u001b[0m 0.6042  \u001b[0m | \u001b[0m 21.41   \u001b[0m | \u001b[0m 450.8   \u001b[0m |\n",
      "| \u001b[0m 23      \u001b[0m | \u001b[0m 0.8332  \u001b[0m | \u001b[0m 28.35   \u001b[0m | \u001b[0m 0.4858  \u001b[0m | \u001b[0m 29.1    \u001b[0m | \u001b[0m 735.9   \u001b[0m |\n",
      "| \u001b[0m 24      \u001b[0m | \u001b[0m 0.8214  \u001b[0m | \u001b[0m 9.313   \u001b[0m | \u001b[0m 0.528   \u001b[0m | \u001b[0m 36.66   \u001b[0m | \u001b[0m 826.7   \u001b[0m |\n",
      "| \u001b[0m 25      \u001b[0m | \u001b[0m 0.8052  \u001b[0m | \u001b[0m 11.69   \u001b[0m | \u001b[0m 0.1682  \u001b[0m | \u001b[0m 55.24   \u001b[0m | \u001b[0m 971.1   \u001b[0m |\n",
      "| \u001b[95m 26      \u001b[0m | \u001b[95m 0.8675  \u001b[0m | \u001b[95m 10.42   \u001b[0m | \u001b[95m 0.7467  \u001b[0m | \u001b[95m 6.026   \u001b[0m | \u001b[95m 261.7   \u001b[0m |\n",
      "| \u001b[0m 27      \u001b[0m | \u001b[0m 0.8508  \u001b[0m | \u001b[0m 28.07   \u001b[0m | \u001b[0m 0.9282  \u001b[0m | \u001b[0m 21.26   \u001b[0m | \u001b[0m 223.3   \u001b[0m |\n",
      "| \u001b[0m 28      \u001b[0m | \u001b[0m 0.8157  \u001b[0m | \u001b[0m 8.159   \u001b[0m | \u001b[0m 0.5981  \u001b[0m | \u001b[0m 40.3    \u001b[0m | \u001b[0m 865.6   \u001b[0m |\n",
      "| \u001b[0m 29      \u001b[0m | \u001b[0m 0.7767  \u001b[0m | \u001b[0m 19.86   \u001b[0m | \u001b[0m 0.1003  \u001b[0m | \u001b[0m 30.27   \u001b[0m | \u001b[0m 201.8   \u001b[0m |\n",
      "| \u001b[0m 30      \u001b[0m | \u001b[0m 0.8147  \u001b[0m | \u001b[0m 14.51   \u001b[0m | \u001b[0m 0.2792  \u001b[0m | \u001b[0m 56.7    \u001b[0m | \u001b[0m 415.4   \u001b[0m |\n",
      "| \u001b[0m 31      \u001b[0m | \u001b[0m 0.8555  \u001b[0m | \u001b[0m 7.309   \u001b[0m | \u001b[0m 0.6273  \u001b[0m | \u001b[0m 7.761   \u001b[0m | \u001b[0m 259.1   \u001b[0m |\n",
      "| \u001b[0m 32      \u001b[0m | \u001b[0m 0.861   \u001b[0m | \u001b[0m 16.98   \u001b[0m | \u001b[0m 0.918   \u001b[0m | \u001b[0m 7.645   \u001b[0m | \u001b[0m 261.6   \u001b[0m |\n",
      "| \u001b[0m 33      \u001b[0m | \u001b[0m 0.8647  \u001b[0m | \u001b[0m 10.04   \u001b[0m | \u001b[0m 0.7655  \u001b[0m | \u001b[0m 4.873   \u001b[0m | \u001b[0m 270.2   \u001b[0m |\n",
      "| \u001b[0m 34      \u001b[0m | \u001b[0m 0.8646  \u001b[0m | \u001b[0m 14.36   \u001b[0m | \u001b[0m 0.7544  \u001b[0m | \u001b[0m 2.0     \u001b[0m | \u001b[0m 738.0   \u001b[0m |\n",
      "| \u001b[0m 35      \u001b[0m | \u001b[0m 0.8643  \u001b[0m | \u001b[0m 20.71   \u001b[0m | \u001b[0m 0.9055  \u001b[0m | \u001b[0m 2.626   \u001b[0m | \u001b[0m 749.9   \u001b[0m |\n",
      "=========================================================================\n"
     ]
    }
   ],
   "source": [
    "def estimator(max_depth, min_samples_split, max_features, n_estimators):\n",
    "    params = {}\n",
    "    params['max_depth'] = round(max_depth)\n",
    "    params['min_samples_split'] = round(min_samples_split)\n",
    "    params['max_features'] = round(max_features, 1)\n",
    "    params['n_estimators'] = round(n_estimators)\n",
    "    \n",
    "    scaler = StandardScaler()\n",
    "    cv = StratifiedKFold(5, shuffle=True, random_state=143)\n",
    "    \n",
    "    model = RandomForestClassifier(random_state=143, **params)\n",
    "    pipeline = Pipeline(steps=[('scaler', scaler), ('model', model)])\n",
    "    \n",
    "    score = cross_val_score(pipeline, X_train, y_train, scoring='f1', cv=cv).mean()\n",
    "    return score\n",
    "\n",
    "params_bounds = {\n",
    "    'max_depth':(5, 30),\n",
    "    'min_samples_split':(2, 60),\n",
    "    'max_features':(0.1, 1.0),\n",
    "    'n_estimators':(50, 1000),\n",
    "}\n",
    "\n",
    "forest_bo = BayesianOptimization(estimator, params_bounds, random_state=143)\n",
    "forest_bo.maximize(init_points=30, n_iter=5)"
   ]
  },
  {
   "cell_type": "code",
   "execution_count": 19,
   "id": "76ed561c",
   "metadata": {},
   "outputs": [],
   "source": [
    "params_forest = forest_bo.max['params']\n",
    "params_forest['max_depth'] = round(params_forest['max_depth'])\n",
    "params_forest['min_samples_split'] = round(params_forest['min_samples_split'])\n",
    "params_forest['max_features'] = round(params_forest['max_features'], 1)\n",
    "params_forest['n_estimators'] = round(params_forest['n_estimators'])"
   ]
  },
  {
   "cell_type": "code",
   "execution_count": 20,
   "id": "493d79ac",
   "metadata": {},
   "outputs": [
    {
     "data": {
      "text/plain": [
       "{'max_depth': 10,\n",
       " 'max_features': 0.7,\n",
       " 'min_samples_split': 6,\n",
       " 'n_estimators': 262}"
      ]
     },
     "execution_count": 20,
     "metadata": {},
     "output_type": "execute_result"
    }
   ],
   "source": [
    "params_forest"
   ]
  },
  {
   "cell_type": "markdown",
   "id": "85a44f53",
   "metadata": {},
   "source": [
    "## 5. Tune the model"
   ]
  },
  {
   "cell_type": "code",
   "execution_count": 21,
   "id": "2ed333d6",
   "metadata": {},
   "outputs": [
    {
     "data": {
      "text/plain": [
       "RandomForestClassifier(max_depth=10, max_features=0.7, min_samples_split=6,\n",
       "                       n_estimators=262, random_state=143)"
      ]
     },
     "execution_count": 21,
     "metadata": {},
     "output_type": "execute_result"
    }
   ],
   "source": [
    "forest = RandomForestClassifier(random_state=143, **params_forest)\n",
    "forest.fit(X_train_scaled, y_train)"
   ]
  },
  {
   "cell_type": "code",
   "execution_count": 22,
   "id": "eaddfc5f",
   "metadata": {},
   "outputs": [
    {
     "data": {
      "text/plain": [
       "array([[85273,     7],\n",
       "       [   40,   123]], dtype=int64)"
      ]
     },
     "execution_count": 22,
     "metadata": {},
     "output_type": "execute_result"
    }
   ],
   "source": [
    "predictions = forest.predict(X_test_scaled)\n",
    "confusion_matrix(y_test, predictions)"
   ]
  },
  {
   "cell_type": "code",
   "execution_count": 23,
   "id": "fb993f82",
   "metadata": {},
   "outputs": [
    {
     "data": {
      "text/plain": [
       "0.7864450127877238"
      ]
     },
     "execution_count": 23,
     "metadata": {},
     "output_type": "execute_result"
    }
   ],
   "source": [
    "fbeta_score(y_test, predictions, beta=2)"
   ]
  },
  {
   "cell_type": "code",
   "execution_count": 24,
   "id": "ebabdc38",
   "metadata": {},
   "outputs": [
    {
     "name": "stdout",
     "output_type": "stream",
     "text": [
      "Cost: RM 370.0\n"
     ]
    }
   ],
   "source": [
    "(tn, fp), (fn, tp) = confusion_matrix(y_test, predictions)\n",
    "\n",
    "print(f'Cost: RM {round(fn * fraud_cost, 2)}')"
   ]
  },
  {
   "cell_type": "markdown",
   "id": "14c526a4",
   "metadata": {},
   "source": [
    "# IMPLEMENTATION OF THRESHOLD ANALYSIS"
   ]
  },
  {
   "cell_type": "code",
   "execution_count": 25,
   "id": "aa5d338c",
   "metadata": {},
   "outputs": [],
   "source": [
    "proba = forest.predict_proba(X_test_scaled)"
   ]
  },
  {
   "cell_type": "code",
   "execution_count": 26,
   "id": "ab534fde",
   "metadata": {},
   "outputs": [
    {
     "data": {
      "image/png": "[encoded data removed]",
      "text/plain": [
       "<Figure size 864x432 with 1 Axes>"
      ]
     },
     "metadata": {
      "needs_background": "light"
     },
     "output_type": "display_data"
    }
   ],
   "source": [
    "precision, recall, threshold = precision_recall_curve(y_test, proba[:,1])\n",
    "\n",
    "f2score = (5 * precision * recall) / (4 * precision + recall)\n",
    "idx = np.argmax(f2score)\n",
    "\n",
    "plt.figure(figsize=(12,6))\n",
    "plt.plot(recall, precision)\n",
    "plt.plot(recall[idx], precision[idx], marker='o', color='black')\n",
    "plt.title('Precision-Recall Curve', fontsize=15)\n",
    "plt.xlabel('Recall', fontsize=12)\n",
    "plt.ylabel('Precision', fontsize=12);"
   ]
  },
  {
   "cell_type": "code",
   "execution_count": 27,
   "id": "ef11a448",
   "metadata": {},
   "outputs": [
    {
     "name": "stdout",
     "output_type": "stream",
     "text": [
      "Threshold: 0.29377979812347543\n",
      "Recall:    0.803680981595092\n",
      "Precision: 0.916083916083916\n",
      "F1-score:  0.8238993710691823\n"
     ]
    }
   ],
   "source": [
    "print(f'Threshold: {threshold[idx]}')\n",
    "print(f'Recall: {recall[idx]:20}')\n",
    "print(f'Precision: {precision[idx]}')\n",
    "print(f'F1-score: {f2score[idx]:19}')"
   ]
  },
  {
   "cell_type": "code",
   "execution_count": 28,
   "id": "79184bd2",
   "metadata": {},
   "outputs": [],
   "source": [
    "recall_idx = np.where(recall >= recall_score(y_test, predictions))\n",
    "recall = recall[recall_idx]\n",
    "precision = precision[recall_idx]\n",
    "threshold = threshold[recall_idx]\n",
    "\n",
    "precision_idx = np.where(precision >= precision_score(y_test, predictions))\n",
    "recall = recall[precision_idx]\n",
    "precision = precision[precision_idx]\n",
    "threshold = threshold[precision_idx]\n",
    "\n",
    "f2score = (5 * precision * recall) / (4 * precision + recall)\n",
    "idx = np.argmax(f2score)"
   ]
  },
  {
   "cell_type": "code",
   "execution_count": 29,
   "id": "e927634f",
   "metadata": {},
   "outputs": [
    {
     "name": "stdout",
     "output_type": "stream",
     "text": [
      "Threshold: 0.39414758269720096\n",
      "Recall:    0.7852760736196319\n",
      "Precision: 0.9481481481481482\n",
      "F1-score:  0.8132147395171537\n"
     ]
    }
   ],
   "source": [
    "print(f'Threshold: {threshold[idx]}')\n",
    "print(f'Recall: {recall[idx]:21}')\n",
    "print(f'Precision: {precision[idx]}')\n",
    "print(f'F1-score: {f2score[idx]:19}')"
   ]
  },
  {
   "cell_type": "code",
   "execution_count": 30,
   "id": "de134d4a",
   "metadata": {},
   "outputs": [
    {
     "data": {
      "text/plain": [
       "array([[85273,     7],\n",
       "       [   35,   128]], dtype=int64)"
      ]
     },
     "execution_count": 30,
     "metadata": {},
     "output_type": "execute_result"
    }
   ],
   "source": [
    "new_predictions = np.where(proba[:,1] >= threshold[idx], 1, 0)\n",
    "confusion_matrix(y_test, new_predictions)"
   ]
  },
  {
   "cell_type": "code",
   "execution_count": 31,
   "id": "b8ca78e1",
   "metadata": {},
   "outputs": [
    {
     "data": {
      "text/plain": [
       "0.8132147395171537"
      ]
     },
     "execution_count": 31,
     "metadata": {},
     "output_type": "execute_result"
    }
   ],
   "source": [
    "fbeta_score(y_test, new_predictions, beta=2)"
   ]
  },
  {
   "cell_type": "code",
   "execution_count": 32,
   "id": "8d567531",
   "metadata": {},
   "outputs": [
    {
     "name": "stdout",
     "output_type": "stream",
     "text": [
      "Cost: RM 323.75\n"
     ]
    }
   ],
   "source": [
    "(tn, fp), (fn, tp) = confusion_matrix(y_test, new_predictions)\n",
    "\n",
    "print(f'Cost: RM {round(fn * fraud_cost, 2)}')"
   ]
  }
 ],
 "metadata": {
  "kernelspec": {
   "display_name": "Python 3 (ipykernel)",
   "language": "python",
   "name": "python3"
  },
  "language_info": {
   "codemirror_mode": {
    "name": "ipython",
    "version": 3
   },
   "file_extension": ".py",
   "mimetype": "text/x-python",
   "name": "python",
   "nbconvert_exporter": "python",
   "pygments_lexer": "ipython3",
   "version": "3.8.12"
  }
 },
 "nbformat": 4,
 "nbformat_minor": 5
}
