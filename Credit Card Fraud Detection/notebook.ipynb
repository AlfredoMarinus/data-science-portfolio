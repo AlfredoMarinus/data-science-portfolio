{
 "cells": [
  {
   "cell_type": "markdown",
   "id": "29379dd0",
   "metadata": {},
   "source": [
    "## Import libraries"
   ]
  },
  {
   "cell_type": "code",
   "execution_count": 1,
   "id": "bright-original",
   "metadata": {},
   "outputs": [],
   "source": [
    "# data manipulation\n",
    "import pandas as pd\n",
    "pd.set_option('display.max_rows', 50)\n",
    "pd.set_option('display.max_columns', 50)\n",
    "\n",
    "# linear algebra\n",
    "import numpy as np\n",
    "\n",
    "# data visualization\n",
    "import matplotlib.pyplot as plt\n",
    "import seaborn as sns\n",
    "from wordcloud import WordCloud\n",
    "plt.rcParams['figure.figsize'] = 12,6\n",
    "sns.set_style('darkgrid')\n",
    "%matplotlib inline\n",
    "\n",
    "# machine leanring\n",
    "from sklearn.model_selection import cross_val_score, cross_val_predict, cross_validate, StratifiedKFold, GridSearchCV\n",
    "from sklearn.preprocessing import StandardScaler\n",
    "from sklearn.linear_model import LogisticRegression\n",
    "from sklearn.svm import SVC\n",
    "from sklearn.neighbors import KNeighborsClassifier\n",
    "from sklearn.tree import DecisionTreeClassifier\n",
    "from sklearn.ensemble import RandomForestClassifier, StackingClassifier\n",
    "from sklearn.naive_bayes import GaussianNB\n",
    "from sklearn.pipeline import Pipeline\n",
    "from sklearn.metrics import confusion_matrix, recall_score, precision_score, make_scorer, precision_recall_curve\n",
    "\n",
    "import math\n",
    "from time import time"
   ]
  },
  {
   "cell_type": "markdown",
   "id": "252b63f8",
   "metadata": {},
   "source": [
    "### Import dataset"
   ]
  },
  {
   "cell_type": "code",
   "execution_count": 2,
   "id": "operating-reserve",
   "metadata": {
    "scrolled": false
   },
   "outputs": [
    {
     "data": {
      "text/html": [
       "<div>\n",
       "<style scoped>\n",
       "    .dataframe tbody tr th:only-of-type {\n",
       "        vertical-align: middle;\n",
       "    }\n",
       "\n",
       "    .dataframe tbody tr th {\n",
       "        vertical-align: top;\n",
       "    }\n",
       "\n",
       "    .dataframe thead th {\n",
       "        text-align: right;\n",
       "    }\n",
       "</style>\n",
       "<table border=\"1\" class=\"dataframe\">\n",
       "  <thead>\n",
       "    <tr style=\"text-align: right;\">\n",
       "      <th></th>\n",
       "      <th>Time</th>\n",
       "      <th>V1</th>\n",
       "      <th>V2</th>\n",
       "      <th>V3</th>\n",
       "      <th>V4</th>\n",
       "      <th>V5</th>\n",
       "      <th>V6</th>\n",
       "      <th>V7</th>\n",
       "      <th>V8</th>\n",
       "      <th>V9</th>\n",
       "      <th>V10</th>\n",
       "      <th>V11</th>\n",
       "      <th>V12</th>\n",
       "      <th>V13</th>\n",
       "      <th>V14</th>\n",
       "      <th>V15</th>\n",
       "      <th>V16</th>\n",
       "      <th>V17</th>\n",
       "      <th>V18</th>\n",
       "      <th>V19</th>\n",
       "      <th>V20</th>\n",
       "      <th>V21</th>\n",
       "      <th>V22</th>\n",
       "      <th>V23</th>\n",
       "      <th>V24</th>\n",
       "      <th>V25</th>\n",
       "      <th>V26</th>\n",
       "      <th>V27</th>\n",
       "      <th>V28</th>\n",
       "      <th>Amount</th>\n",
       "      <th>Class</th>\n",
       "    </tr>\n",
       "  </thead>\n",
       "  <tbody>\n",
       "    <tr>\n",
       "      <th>0</th>\n",
       "      <td>0.0</td>\n",
       "      <td>-1.359807</td>\n",
       "      <td>-0.072781</td>\n",
       "      <td>2.536347</td>\n",
       "      <td>1.378155</td>\n",
       "      <td>-0.338321</td>\n",
       "      <td>0.462388</td>\n",
       "      <td>0.239599</td>\n",
       "      <td>0.098698</td>\n",
       "      <td>0.363787</td>\n",
       "      <td>0.090794</td>\n",
       "      <td>-0.551600</td>\n",
       "      <td>-0.617801</td>\n",
       "      <td>-0.991390</td>\n",
       "      <td>-0.311169</td>\n",
       "      <td>1.468177</td>\n",
       "      <td>-0.470401</td>\n",
       "      <td>0.207971</td>\n",
       "      <td>0.025791</td>\n",
       "      <td>0.403993</td>\n",
       "      <td>0.251412</td>\n",
       "      <td>-0.018307</td>\n",
       "      <td>0.277838</td>\n",
       "      <td>-0.110474</td>\n",
       "      <td>0.066928</td>\n",
       "      <td>0.128539</td>\n",
       "      <td>-0.189115</td>\n",
       "      <td>0.133558</td>\n",
       "      <td>-0.021053</td>\n",
       "      <td>149.62</td>\n",
       "      <td>0</td>\n",
       "    </tr>\n",
       "    <tr>\n",
       "      <th>1</th>\n",
       "      <td>0.0</td>\n",
       "      <td>1.191857</td>\n",
       "      <td>0.266151</td>\n",
       "      <td>0.166480</td>\n",
       "      <td>0.448154</td>\n",
       "      <td>0.060018</td>\n",
       "      <td>-0.082361</td>\n",
       "      <td>-0.078803</td>\n",
       "      <td>0.085102</td>\n",
       "      <td>-0.255425</td>\n",
       "      <td>-0.166974</td>\n",
       "      <td>1.612727</td>\n",
       "      <td>1.065235</td>\n",
       "      <td>0.489095</td>\n",
       "      <td>-0.143772</td>\n",
       "      <td>0.635558</td>\n",
       "      <td>0.463917</td>\n",
       "      <td>-0.114805</td>\n",
       "      <td>-0.183361</td>\n",
       "      <td>-0.145783</td>\n",
       "      <td>-0.069083</td>\n",
       "      <td>-0.225775</td>\n",
       "      <td>-0.638672</td>\n",
       "      <td>0.101288</td>\n",
       "      <td>-0.339846</td>\n",
       "      <td>0.167170</td>\n",
       "      <td>0.125895</td>\n",
       "      <td>-0.008983</td>\n",
       "      <td>0.014724</td>\n",
       "      <td>2.69</td>\n",
       "      <td>0</td>\n",
       "    </tr>\n",
       "    <tr>\n",
       "      <th>2</th>\n",
       "      <td>1.0</td>\n",
       "      <td>-1.358354</td>\n",
       "      <td>-1.340163</td>\n",
       "      <td>1.773209</td>\n",
       "      <td>0.379780</td>\n",
       "      <td>-0.503198</td>\n",
       "      <td>1.800499</td>\n",
       "      <td>0.791461</td>\n",
       "      <td>0.247676</td>\n",
       "      <td>-1.514654</td>\n",
       "      <td>0.207643</td>\n",
       "      <td>0.624501</td>\n",
       "      <td>0.066084</td>\n",
       "      <td>0.717293</td>\n",
       "      <td>-0.165946</td>\n",
       "      <td>2.345865</td>\n",
       "      <td>-2.890083</td>\n",
       "      <td>1.109969</td>\n",
       "      <td>-0.121359</td>\n",
       "      <td>-2.261857</td>\n",
       "      <td>0.524980</td>\n",
       "      <td>0.247998</td>\n",
       "      <td>0.771679</td>\n",
       "      <td>0.909412</td>\n",
       "      <td>-0.689281</td>\n",
       "      <td>-0.327642</td>\n",
       "      <td>-0.139097</td>\n",
       "      <td>-0.055353</td>\n",
       "      <td>-0.059752</td>\n",
       "      <td>378.66</td>\n",
       "      <td>0</td>\n",
       "    </tr>\n",
       "    <tr>\n",
       "      <th>3</th>\n",
       "      <td>1.0</td>\n",
       "      <td>-0.966272</td>\n",
       "      <td>-0.185226</td>\n",
       "      <td>1.792993</td>\n",
       "      <td>-0.863291</td>\n",
       "      <td>-0.010309</td>\n",
       "      <td>1.247203</td>\n",
       "      <td>0.237609</td>\n",
       "      <td>0.377436</td>\n",
       "      <td>-1.387024</td>\n",
       "      <td>-0.054952</td>\n",
       "      <td>-0.226487</td>\n",
       "      <td>0.178228</td>\n",
       "      <td>0.507757</td>\n",
       "      <td>-0.287924</td>\n",
       "      <td>-0.631418</td>\n",
       "      <td>-1.059647</td>\n",
       "      <td>-0.684093</td>\n",
       "      <td>1.965775</td>\n",
       "      <td>-1.232622</td>\n",
       "      <td>-0.208038</td>\n",
       "      <td>-0.108300</td>\n",
       "      <td>0.005274</td>\n",
       "      <td>-0.190321</td>\n",
       "      <td>-1.175575</td>\n",
       "      <td>0.647376</td>\n",
       "      <td>-0.221929</td>\n",
       "      <td>0.062723</td>\n",
       "      <td>0.061458</td>\n",
       "      <td>123.50</td>\n",
       "      <td>0</td>\n",
       "    </tr>\n",
       "    <tr>\n",
       "      <th>4</th>\n",
       "      <td>2.0</td>\n",
       "      <td>-1.158233</td>\n",
       "      <td>0.877737</td>\n",
       "      <td>1.548718</td>\n",
       "      <td>0.403034</td>\n",
       "      <td>-0.407193</td>\n",
       "      <td>0.095921</td>\n",
       "      <td>0.592941</td>\n",
       "      <td>-0.270533</td>\n",
       "      <td>0.817739</td>\n",
       "      <td>0.753074</td>\n",
       "      <td>-0.822843</td>\n",
       "      <td>0.538196</td>\n",
       "      <td>1.345852</td>\n",
       "      <td>-1.119670</td>\n",
       "      <td>0.175121</td>\n",
       "      <td>-0.451449</td>\n",
       "      <td>-0.237033</td>\n",
       "      <td>-0.038195</td>\n",
       "      <td>0.803487</td>\n",
       "      <td>0.408542</td>\n",
       "      <td>-0.009431</td>\n",
       "      <td>0.798278</td>\n",
       "      <td>-0.137458</td>\n",
       "      <td>0.141267</td>\n",
       "      <td>-0.206010</td>\n",
       "      <td>0.502292</td>\n",
       "      <td>0.219422</td>\n",
       "      <td>0.215153</td>\n",
       "      <td>69.99</td>\n",
       "      <td>0</td>\n",
       "    </tr>\n",
       "  </tbody>\n",
       "</table>\n",
       "</div>"
      ],
      "text/plain": [
       "   Time        V1        V2        V3        V4        V5        V6        V7  \\\n",
       "0   0.0 -1.359807 -0.072781  2.536347  1.378155 -0.338321  0.462388  0.239599   \n",
       "1   0.0  1.191857  0.266151  0.166480  0.448154  0.060018 -0.082361 -0.078803   \n",
       "2   1.0 -1.358354 -1.340163  1.773209  0.379780 -0.503198  1.800499  0.791461   \n",
       "3   1.0 -0.966272 -0.185226  1.792993 -0.863291 -0.010309  1.247203  0.237609   \n",
       "4   2.0 -1.158233  0.877737  1.548718  0.403034 -0.407193  0.095921  0.592941   \n",
       "\n",
       "         V8        V9       V10       V11       V12       V13       V14  \\\n",
       "0  0.098698  0.363787  0.090794 -0.551600 -0.617801 -0.991390 -0.311169   \n",
       "1  0.085102 -0.255425 -0.166974  1.612727  1.065235  0.489095 -0.143772   \n",
       "2  0.247676 -1.514654  0.207643  0.624501  0.066084  0.717293 -0.165946   \n",
       "3  0.377436 -1.387024 -0.054952 -0.226487  0.178228  0.507757 -0.287924   \n",
       "4 -0.270533  0.817739  0.753074 -0.822843  0.538196  1.345852 -1.119670   \n",
       "\n",
       "        V15       V16       V17       V18       V19       V20       V21  \\\n",
       "0  1.468177 -0.470401  0.207971  0.025791  0.403993  0.251412 -0.018307   \n",
       "1  0.635558  0.463917 -0.114805 -0.183361 -0.145783 -0.069083 -0.225775   \n",
       "2  2.345865 -2.890083  1.109969 -0.121359 -2.261857  0.524980  0.247998   \n",
       "3 -0.631418 -1.059647 -0.684093  1.965775 -1.232622 -0.208038 -0.108300   \n",
       "4  0.175121 -0.451449 -0.237033 -0.038195  0.803487  0.408542 -0.009431   \n",
       "\n",
       "        V22       V23       V24       V25       V26       V27       V28  \\\n",
       "0  0.277838 -0.110474  0.066928  0.128539 -0.189115  0.133558 -0.021053   \n",
       "1 -0.638672  0.101288 -0.339846  0.167170  0.125895 -0.008983  0.014724   \n",
       "2  0.771679  0.909412 -0.689281 -0.327642 -0.139097 -0.055353 -0.059752   \n",
       "3  0.005274 -0.190321 -1.175575  0.647376 -0.221929  0.062723  0.061458   \n",
       "4  0.798278 -0.137458  0.141267 -0.206010  0.502292  0.219422  0.215153   \n",
       "\n",
       "   Amount  Class  \n",
       "0  149.62      0  \n",
       "1    2.69      0  \n",
       "2  378.66      0  \n",
       "3  123.50      0  \n",
       "4   69.99      0  "
      ]
     },
     "execution_count": 2,
     "metadata": {},
     "output_type": "execute_result"
    }
   ],
   "source": [
    "df = pd.read_csv('creditcard.csv')\n",
    "df.head()"
   ]
  },
  {
   "cell_type": "code",
   "execution_count": 3,
   "id": "c3ab2895",
   "metadata": {},
   "outputs": [
    {
     "name": "stdout",
     "output_type": "stream",
     "text": [
      "This data is worth 48 hours of transactions.\n",
      "The average fraud cost is RM 122.21\n",
      "I am assuming the salary of financial staff in Malaysia is RM 6780.\n",
      "I am also assuming that one transaction takes 5 minutes to be checked.\n",
      "So, the monitoring cost for one transaction is RM 3.53\n"
     ]
    }
   ],
   "source": [
    "data_duration = df['Time'].max() / (60*60)\n",
    "fraud_cost = round(df[df['Class']==1]['Amount'].mean(),2)\n",
    "number_of_transactions_per_hour = 12 # one transaction per 5 minutes\n",
    "monitoring_cost = 6780 / (4*40) / number_of_transactions_per_hour # (4*40) means to 40 working hours per week for 4 weeks\n",
    "\n",
    "print(f'This data is worth {round(data_duration)} hours of transactions.')\n",
    "print(f'The average fraud cost is RM {fraud_cost}')\n",
    "print('I am assuming the salary of financial staff in Malaysia is RM 6780.')\n",
    "print('I am also assuming that one transaction takes 5 minutes to be checked.')\n",
    "print(f'So, the monitoring cost for one transaction is RM {round(monitoring_cost,2)}')"
   ]
  },
  {
   "cell_type": "code",
   "execution_count": 4,
   "id": "9ee191a1",
   "metadata": {},
   "outputs": [
    {
     "name": "stdout",
     "output_type": "stream",
     "text": [
      "For every fraud transaction predicted by our model, monitoring will be done.\n",
      "But if our model predicted a fraud transaction as normal, then we will loss RM 122.21.\n"
     ]
    }
   ],
   "source": [
    "print(f'For every fraud transaction predicted by our model, monitoring will be done.')\n",
    "print(f'But if our model predicted a fraud transaction as normal, then we will loss RM {fraud_cost}.')"
   ]
  },
  {
   "cell_type": "markdown",
   "id": "0f24126d",
   "metadata": {},
   "source": [
    "## Model building"
   ]
  },
  {
   "cell_type": "code",
   "execution_count": 5,
   "id": "suspected-beach",
   "metadata": {},
   "outputs": [],
   "source": [
    "def create_models():\n",
    "    models = {}\n",
    "    models['Logistic Regression'] = LogisticRegression(max_iter=5000)\n",
    "    models['K-Nearest Neighbors'] = KNeighborsClassifier()\n",
    "    models['Support Vector Machines'] = SVC()\n",
    "    models['Decision Tree'] = DecisionTreeClassifier()\n",
    "    models['Naive Bayes'] = GaussianNB()\n",
    "    models['Random Forest'] = RandomForestClassifier()\n",
    "    return models"
   ]
  },
  {
   "cell_type": "code",
   "execution_count": 6,
   "id": "psychological-burning",
   "metadata": {},
   "outputs": [],
   "source": [
    "def evaluate_model(model, X, y, metrics='accuracy'):\n",
    "    scaler = StandardScaler()\n",
    "    pipeline = Pipeline(steps=[('scaler', scaler),('model', model)])\n",
    "    cv = StratifiedKFold(5,shuffle=True,random_state=143)\n",
    "    scores = cross_validate(pipeline, X, y, cv=cv, scoring=metrics)\n",
    "    return scores"
   ]
  },
  {
   "cell_type": "code",
   "execution_count": 7,
   "id": "a1f76d4b",
   "metadata": {},
   "outputs": [],
   "source": [
    "def false_positive(estimator, X, y):\n",
    "    predictions = estimator.predict(X)\n",
    "    cm = confusion_matrix(y,predictions)\n",
    "    return cm[0][1]\n",
    "\n",
    "def false_negative(estimator, X, y):\n",
    "    predictions = estimator.predict(X)\n",
    "    cm = confusion_matrix(y,predictions)\n",
    "    return cm[1][0]\n",
    "\n",
    "def true_positive(estimator, X, y):\n",
    "    predictions = estimator.predict(X)\n",
    "    cm = confusion_matrix(y,predictions)\n",
    "    return cm[1][1]"
   ]
  },
  {
   "cell_type": "code",
   "execution_count": 8,
   "id": "legitimate-money",
   "metadata": {
    "scrolled": true
   },
   "outputs": [
    {
     "name": "stdout",
     "output_type": "stream",
     "text": [
      "--- Initializing Logistic Regression ---\n",
      "--- Logistic Regression done! ---\n",
      "--- Initializing K-Nearest Neighbors ---\n",
      "--- K-Nearest Neighbors done! ---\n",
      "--- Initializing Support Vector Machines ---\n",
      "--- Support Vector Machines done! ---\n",
      "--- Initializing Decision Tree ---\n",
      "--- Decision Tree done! ---\n",
      "--- Initializing Naive Bayes ---\n",
      "--- Naive Bayes done! ---\n",
      "--- Initializing Random Forest ---\n",
      "--- Random Forest done! ---\n"
     ]
    }
   ],
   "source": [
    "df = df.iloc[:,1:]\n",
    "X = df.drop('Class', axis=1)\n",
    "y = df['Class']\n",
    "\n",
    "names = []\n",
    "results = []\n",
    "\n",
    "scoring = {'fp':false_positive,\n",
    "           'fn':false_negative,\n",
    "           'tp':true_positive,\n",
    "           'recall': 'recall',\n",
    "           'precision': 'precision',\n",
    "           'f1_score': 'f1'}\n",
    "\n",
    "for name, model in create_models().items():\n",
    "    print(f'--- Initializing {name} ---')\n",
    "    scores = evaluate_model(model, X, y, scoring)\n",
    "    names.append(name)\n",
    "    results.append(scores)\n",
    "    print(f'--- {name} done! ---')"
   ]
  },
  {
   "cell_type": "code",
   "execution_count": 9,
   "id": "1613606b",
   "metadata": {},
   "outputs": [
    {
     "data": {
      "text/html": [
       "<div>\n",
       "<style scoped>\n",
       "    .dataframe tbody tr th:only-of-type {\n",
       "        vertical-align: middle;\n",
       "    }\n",
       "\n",
       "    .dataframe tbody tr th {\n",
       "        vertical-align: top;\n",
       "    }\n",
       "\n",
       "    .dataframe thead th {\n",
       "        text-align: right;\n",
       "    }\n",
       "</style>\n",
       "<table border=\"1\" class=\"dataframe\">\n",
       "  <thead>\n",
       "    <tr style=\"text-align: right;\">\n",
       "      <th></th>\n",
       "      <th>False positive</th>\n",
       "      <th>False negative</th>\n",
       "      <th>True positive</th>\n",
       "      <th>Recall</th>\n",
       "      <th>Precision</th>\n",
       "      <th>F1-score</th>\n",
       "      <th>Cost function (RM)</th>\n",
       "      <th>Time to compute (seconds)</th>\n",
       "    </tr>\n",
       "  </thead>\n",
       "  <tbody>\n",
       "    <tr>\n",
       "      <th>Random Forest</th>\n",
       "      <td>5.4</td>\n",
       "      <td>21.4</td>\n",
       "      <td>77.0</td>\n",
       "      <td>0.782560</td>\n",
       "      <td>0.935981</td>\n",
       "      <td>0.851794</td>\n",
       "      <td>2906.27</td>\n",
       "      <td>1057.5</td>\n",
       "    </tr>\n",
       "    <tr>\n",
       "      <th>K-Nearest Neighbors</th>\n",
       "      <td>6.8</td>\n",
       "      <td>21.8</td>\n",
       "      <td>76.6</td>\n",
       "      <td>0.778437</td>\n",
       "      <td>0.918710</td>\n",
       "      <td>0.842548</td>\n",
       "      <td>2958.68</td>\n",
       "      <td>6494.0</td>\n",
       "    </tr>\n",
       "    <tr>\n",
       "      <th>Decision Tree</th>\n",
       "      <td>22.0</td>\n",
       "      <td>22.8</td>\n",
       "      <td>75.6</td>\n",
       "      <td>0.768275</td>\n",
       "      <td>0.776378</td>\n",
       "      <td>0.771336</td>\n",
       "      <td>3131.04</td>\n",
       "      <td>96.0</td>\n",
       "    </tr>\n",
       "    <tr>\n",
       "      <th>Support Vector Machines</th>\n",
       "      <td>4.0</td>\n",
       "      <td>34.6</td>\n",
       "      <td>63.8</td>\n",
       "      <td>0.648341</td>\n",
       "      <td>0.943000</td>\n",
       "      <td>0.767628</td>\n",
       "      <td>4467.88</td>\n",
       "      <td>2334.9</td>\n",
       "    </tr>\n",
       "    <tr>\n",
       "      <th>Logistic Regression</th>\n",
       "      <td>9.2</td>\n",
       "      <td>37.8</td>\n",
       "      <td>60.6</td>\n",
       "      <td>0.615997</td>\n",
       "      <td>0.870195</td>\n",
       "      <td>0.717379</td>\n",
       "      <td>4866.02</td>\n",
       "      <td>13.8</td>\n",
       "    </tr>\n",
       "    <tr>\n",
       "      <th>Naive Bayes</th>\n",
       "      <td>1246.2</td>\n",
       "      <td>16.8</td>\n",
       "      <td>81.6</td>\n",
       "      <td>0.829272</td>\n",
       "      <td>0.061520</td>\n",
       "      <td>0.114525</td>\n",
       "      <td>6741.92</td>\n",
       "      <td>3.9</td>\n",
       "    </tr>\n",
       "  </tbody>\n",
       "</table>\n",
       "</div>"
      ],
      "text/plain": [
       "                         False positive  False negative  True positive  \\\n",
       "Random Forest                       5.4            21.4           77.0   \n",
       "K-Nearest Neighbors                 6.8            21.8           76.6   \n",
       "Decision Tree                      22.0            22.8           75.6   \n",
       "Support Vector Machines             4.0            34.6           63.8   \n",
       "Logistic Regression                 9.2            37.8           60.6   \n",
       "Naive Bayes                      1246.2            16.8           81.6   \n",
       "\n",
       "                           Recall  Precision  F1-score  Cost function (RM)  \\\n",
       "Random Forest            0.782560   0.935981  0.851794             2906.27   \n",
       "K-Nearest Neighbors      0.778437   0.918710  0.842548             2958.68   \n",
       "Decision Tree            0.768275   0.776378  0.771336             3131.04   \n",
       "Support Vector Machines  0.648341   0.943000  0.767628             4467.88   \n",
       "Logistic Regression      0.615997   0.870195  0.717379             4866.02   \n",
       "Naive Bayes              0.829272   0.061520  0.114525             6741.92   \n",
       "\n",
       "                         Time to compute (seconds)  \n",
       "Random Forest                               1057.5  \n",
       "K-Nearest Neighbors                         6494.0  \n",
       "Decision Tree                                 96.0  \n",
       "Support Vector Machines                     2334.9  \n",
       "Logistic Regression                           13.8  \n",
       "Naive Bayes                                    3.9  "
      ]
     },
     "execution_count": 9,
     "metadata": {},
     "output_type": "execute_result"
    }
   ],
   "source": [
    "test_fp = []\n",
    "test_fn = []\n",
    "test_tp = []\n",
    "test_recall = []\n",
    "test_precision = []\n",
    "test_f1 = []\n",
    "time_taken = []\n",
    "\n",
    "for i in range(len(results)):\n",
    "    test_fp.append(results[i]['test_fp'].mean())\n",
    "\n",
    "for i in range(len(results)):\n",
    "    test_fn.append(results[i]['test_fn'].mean())\n",
    "\n",
    "for i in range(len(results)):\n",
    "    test_tp.append(results[i]['test_tp'].mean())\n",
    "\n",
    "for i in range(len(results)):\n",
    "    test_recall.append(results[i]['test_recall'].mean())\n",
    "\n",
    "for i in range(len(results)):\n",
    "    test_precision.append(results[i]['test_precision'].mean())\n",
    "\n",
    "for i in range(len(results)):\n",
    "    test_f1.append(results[i]['test_f1_score'].mean())\n",
    "\n",
    "for i in range(len(results)):\n",
    "    time_taken.append(round(results[i]['score_time'].sum(),1) + round(results[i]['fit_time'].sum(),1))\n",
    "\n",
    "test_fn = pd.Series(test_fn,name='False negative')\n",
    "test_fp = pd.Series(test_fp,name='False positive')\n",
    "test_tp = pd.Series(test_tp,name='True positive')\n",
    "test_recall = pd.Series(test_recall,name='Recall')\n",
    "test_precision = pd.Series(test_precision,name='Precision')\n",
    "test_f1 = pd.Series(test_f1,name='F1-score')\n",
    "time_taken = pd.Series(time_taken,name='Time to compute (seconds)')\n",
    "\n",
    "df_result = pd.concat([test_fp,test_fn,test_tp,test_recall,test_precision,test_f1,time_taken], axis=1)\n",
    "df_result.index = names\n",
    "df_result['Cost function (RM)'] = round(df_result['False negative'] * fraud_cost + ((df_result['True positive'] + df_result['False positive']) * monitoring_cost),2)\n",
    "df_result = df_result.iloc[:,[0,1,2,3,4,5,7,6]]\n",
    "df_result.sort_values(['Cost function (RM)','F1-score'])"
   ]
  },
  {
   "cell_type": "markdown",
   "id": "0436aa6b",
   "metadata": {},
   "source": [
    "## Hyperparameter tuning"
   ]
  },
  {
   "cell_type": "code",
   "execution_count": 10,
   "id": "2885fb85",
   "metadata": {},
   "outputs": [],
   "source": [
    "param_grid = {}\n",
    "param_grid['model__max_leaf_nodes'] = [15,16,17]\n",
    "param_grid['model__min_samples_leaf'] = [8,9,10]\n",
    "param_grid['model__min_impurity_decrease'] = [1e-04,1e-05,1e-06]"
   ]
  },
  {
   "cell_type": "code",
   "execution_count": 11,
   "id": "6e0d189c",
   "metadata": {},
   "outputs": [
    {
     "data": {
      "text/plain": [
       "{'model__max_leaf_nodes': 15,\n",
       " 'model__min_impurity_decrease': 1e-05,\n",
       " 'model__min_samples_leaf': 8}"
      ]
     },
     "execution_count": 11,
     "metadata": {},
     "output_type": "execute_result"
    }
   ],
   "source": [
    "model = DecisionTreeClassifier()\n",
    "scaler = StandardScaler()\n",
    "\n",
    "pipeline = Pipeline(steps=[('scaler', scaler),('model', model)])\n",
    "cv = StratifiedKFold(5,shuffle=True,random_state=143)\n",
    "grid = GridSearchCV(pipeline, param_grid=param_grid, cv=cv, refit=True)\n",
    "\n",
    "grid.fit(X, y)\n",
    "grid.best_params_"
   ]
  },
  {
   "cell_type": "markdown",
   "id": "14c526a4",
   "metadata": {},
   "source": [
    "## Threshold Analysis"
   ]
  },
  {
   "cell_type": "code",
   "execution_count": 12,
   "id": "f1740d1e",
   "metadata": {},
   "outputs": [],
   "source": [
    "def evaluate_model(model, X, y):\n",
    "    scaler = StandardScaler()\n",
    "    pipeline = Pipeline(steps=[('scaler', scaler), ('model', model)])\n",
    "    cv = StratifiedKFold(5, shuffle=True, random_state=143)\n",
    "    scores = cross_val_predict(pipeline, X, y, cv=cv, method='predict_proba')\n",
    "    return scores"
   ]
  },
  {
   "cell_type": "code",
   "execution_count": 13,
   "id": "aa5d338c",
   "metadata": {},
   "outputs": [],
   "source": [
    "model = DecisionTreeClassifier(max_leaf_nodes=15,min_samples_leaf=8,min_impurity_decrease=1e-05)\n",
    "proba = evaluate_model(model, X, y)"
   ]
  },
  {
   "cell_type": "code",
   "execution_count": 14,
   "id": "ab534fde",
   "metadata": {},
   "outputs": [
    {
     "data": {
      "image/png": "[encoded data removed]",
      "text/plain": [
       "<Figure size 864x432 with 1 Axes>"
      ]
     },
     "metadata": {
      "needs_background": "light"
     },
     "output_type": "display_data"
    }
   ],
   "source": [
    "precision, recall, threshold = precision_recall_curve(y, proba[:,1])\n",
    "\n",
    "fscore = (2 * precision * recall) / (precision + recall)\n",
    "idx = np.argmax(fscore)\n",
    "\n",
    "plt.figure(figsize=(12,6))\n",
    "plt.plot(recall, precision)\n",
    "plt.plot(recall[idx], precision[idx], marker='o', color='black')\n",
    "plt.title('Precision-Recall Curve', fontsize=15)\n",
    "plt.xlabel('Recall', fontsize=12)\n",
    "plt.ylabel('Precision', fontsize=12);"
   ]
  },
  {
   "cell_type": "code",
   "execution_count": 15,
   "id": "ef11a448",
   "metadata": {},
   "outputs": [
    {
     "name": "stdout",
     "output_type": "stream",
     "text": [
      "Threshold: 0.375\n",
      "Recall:    0.782520325203252\n",
      "Precision: 0.8810068649885584\n",
      "F1-score:   0.828848223896663\n"
     ]
    }
   ],
   "source": [
    "print(f'Threshold: {threshold[idx]}')\n",
    "print(f'Recall: {recall[idx]:20}')\n",
    "print(f'Precision: {precision[idx]}')\n",
    "print(f'F1-score: {fscore[idx]:19}')"
   ]
  },
  {
   "cell_type": "code",
   "execution_count": 16,
   "id": "79184bd2",
   "metadata": {},
   "outputs": [
    {
     "data": {
      "image/png": "[encoded data removed]",
      "text/plain": [
       "<Figure size 864x432 with 1 Axes>"
      ]
     },
     "metadata": {
      "needs_background": "light"
     },
     "output_type": "display_data"
    }
   ],
   "source": [
    "recall_idx = np.where(recall >= 0.782560)\n",
    "recall = recall[recall_idx]\n",
    "precision = precision[recall_idx]\n",
    "threshold = threshold[recall_idx]\n",
    "\n",
    "fscore = (2 * precision * recall) / (precision + recall)\n",
    "idx = np.argmax(fscore)\n",
    "\n",
    "plt.figure(figsize=(12,6))\n",
    "plt.plot(threshold, precision, color='red', label='precision')\n",
    "plt.plot(threshold, recall, color='blue', label='recall')\n",
    "plt.legend();"
   ]
  },
  {
   "cell_type": "code",
   "execution_count": 17,
   "id": "e927634f",
   "metadata": {},
   "outputs": [
    {
     "name": "stdout",
     "output_type": "stream",
     "text": [
      "Threshold: 0.36363636363636365\n",
      "Recall:    0.7845528455284553\n",
      "Precision: 0.8693693693693694\n",
      "F1-score:  0.8247863247863249\n"
     ]
    }
   ],
   "source": [
    "print(f'Threshold: {threshold[idx]}')\n",
    "print(f'Recall: {recall[idx]:21}')\n",
    "print(f'Precision: {precision[idx]}')\n",
    "print(f'F1-score: {fscore[idx]:19}')"
   ]
  },
  {
   "cell_type": "code",
   "execution_count": 18,
   "id": "de134d4a",
   "metadata": {},
   "outputs": [
    {
     "data": {
      "text/plain": [
       "array([[284257,     58],\n",
       "       [   106,    386]], dtype=int64)"
      ]
     },
     "execution_count": 18,
     "metadata": {},
     "output_type": "execute_result"
    }
   ],
   "source": [
    "pred = np.where(proba[:,1] >= threshold[idx], 1, 0)\n",
    "confusion_matrix(y, pred)"
   ]
  },
  {
   "cell_type": "code",
   "execution_count": 20,
   "id": "8d567531",
   "metadata": {},
   "outputs": [
    {
     "name": "stdout",
     "output_type": "stream",
     "text": [
      "Cost function: RM 2904.43\n",
      "Money saved:   7.24 %\n"
     ]
    }
   ],
   "source": [
    "(tn, fp), (fn, tp) = confusion_matrix(y, pred)\n",
    "\n",
    "print(f'Cost function: RM {round((fn/5) * fraud_cost + (((tp + fp)/5) * monitoring_cost),2)}')\n",
    "print(f'Money saved: {round(((3131.04 - 2904.43) / 3131.04) * 100, 2):6} %')"
   ]
  },
  {
   "cell_type": "code",
   "execution_count": 19,
   "id": "4c60ec71",
   "metadata": {},
   "outputs": [
    {
     "data": {
      "text/plain": [
       "5.5"
      ]
     },
     "execution_count": 20,
     "metadata": {},
     "output_type": "execute_result"
    }
   ],
   "source": [
    "start = time()\n",
    "model.fit(X,y)\n",
    "end = time()\n",
    "\n",
    "round(end-start,1)"
   ]
  },
  {
   "cell_type": "markdown",
   "id": "25f85883",
   "metadata": {},
   "source": [
    "## Borderline SMOTE SVM"
   ]
  },
  {
   "cell_type": "code",
   "execution_count": 21,
   "id": "e8cfc502",
   "metadata": {},
   "outputs": [],
   "source": [
    "from imblearn.over_sampling import SVMSMOTE\n",
    "\n",
    "borderline_svm = SVMSMOTE()\n",
    "X_svm,y_svm = borderline_svm.fit_resample(X,y)"
   ]
  },
  {
   "cell_type": "code",
   "execution_count": 22,
   "id": "06438158",
   "metadata": {},
   "outputs": [],
   "source": [
    "tree_scoring = {'recall':'recall',\n",
    "                'precision':'precision',\n",
    "                'f1-score':'f1'}\n",
    "\n",
    "def evaluate_model(model, X, y, metrics='accuracy'):\n",
    "    scaler = StandardScaler()\n",
    "    pipeline = Pipeline(steps=[('scaler', scaler),('model', model)])\n",
    "    cv = StratifiedKFold(5,shuffle=True,random_state=143)\n",
    "    scores = cross_validate(pipeline, X, y, cv=cv, scoring=metrics)\n",
    "    return scores\n",
    "\n",
    "tree_scores = evaluate_model(DecisionTreeClassifier(), X_svm, y_svm, tree_scoring)"
   ]
  },
  {
   "cell_type": "code",
   "execution_count": 23,
   "id": "3415d2bf",
   "metadata": {},
   "outputs": [],
   "source": [
    "tree_recall = math.floor(tree_scores['test_recall'].mean() * 10 ** 5) / 10 ** 5\n",
    "tree_precision = math.floor(tree_scores['test_precision'].mean() * 10 ** 5) / 10 ** 5\n",
    "tree_f1 = math.floor(tree_scores['test_f1-score'].mean() * 10 ** 5) / 10 ** 5"
   ]
  },
  {
   "cell_type": "code",
   "execution_count": 24,
   "id": "ab91d47b",
   "metadata": {},
   "outputs": [
    {
     "name": "stdout",
     "output_type": "stream",
     "text": [
      "Recall:    99.959 %\n",
      "Precision: 99.903 %\n",
      "F1-score:  99.931 %\n"
     ]
    }
   ],
   "source": [
    "print(f'Recall: {tree_recall * 100:9} %')\n",
    "print(f'Precision: {tree_precision * 100:.3f} %')\n",
    "print(f'F1-score: {tree_f1 * 100:7} %')"
   ]
  },
  {
   "cell_type": "code",
   "execution_count": null,
   "id": "e96ae748",
   "metadata": {},
   "outputs": [],
   "source": []
  }
 ],
 "metadata": {
  "kernelspec": {
   "display_name": "Python 3",
   "language": "python",
   "name": "python3"
  },
  "language_info": {
   "codemirror_mode": {
    "name": "ipython",
    "version": 3
   },
   "file_extension": ".py",
   "mimetype": "text/x-python",
   "name": "python",
   "nbconvert_exporter": "python",
   "pygments_lexer": "ipython3",
   "version": "3.8.11"
  }
 },
 "nbformat": 4,
 "nbformat_minor": 5
}
